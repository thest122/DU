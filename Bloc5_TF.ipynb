{
  "nbformat": 4,
  "nbformat_minor": 0,
  "metadata": {
    "colab": {
      "name": "Bloc5_TF.ipynb",
      "provenance": [],
      "collapsed_sections": [
        "VUARUvVRiPDk",
        "8wTlb74jDJYV",
        "4oomHd2lrqbY",
        "EBqoJ5lGjOym",
        "TmoaAKaTYkWT"
      ],
      "authorship_tag": "ABX9TyNacjHPElwC1j/lANt+PHHA",
      "include_colab_link": true
    },
    "kernelspec": {
      "name": "python3",
      "display_name": "Python 3"
    },
    "language_info": {
      "name": "python"
    }
  },
  "cells": [
    {
      "cell_type": "markdown",
      "metadata": {
        "id": "view-in-github",
        "colab_type": "text"
      },
      "source": [
        "<a href=\"https://colab.research.google.com/github/thest122/DU/blob/main/Bloc5_TF.ipynb\" target=\"_parent\"><img src=\"https://colab.research.google.com/assets/colab-badge.svg\" alt=\"Open In Colab\"/></a>"
      ]
    },
    {
      "cell_type": "markdown",
      "metadata": {
        "id": "VUARUvVRiPDk"
      },
      "source": [
        "# Algorithme glouton (bloc 2)"
      ]
    },
    {
      "cell_type": "code",
      "metadata": {
        "id": "GQ4c_9Zehq6X"
      },
      "source": [
        "masse={'A':1 ,'B':2 , 'C':3 , 'D':4 }\n",
        "largeur={'A':1 ,'B':2 , 'C':1 , 'D':2 }\n",
        "largeur_maxi_plateau = 4\n",
        "masse_maxi_plateau = 7\n",
        "\n",
        "\n",
        "\n",
        "def nb_produits(dico):\n",
        "    resu = 0\n",
        "    for cle in dico:\n",
        "        resu += dico[cle]\n",
        "    return resu\n",
        "\n",
        "\n",
        "\n",
        "def choisir_produit(commande, masse_libre_plateau, largeur_libre_plateau, ordre):\n",
        "    \"\"\" retourne la clé d'un article qui\n",
        "    - figure dans la commande et\n",
        "    - respecte les contraintes de masse et de largeur\n",
        "    si aucun article ne convient, la fonction retourne None\n",
        "    \"\"\"\n",
        "    for produit in ordre :  \n",
        "        if (produit in commande and commande[produit]>0 and masse[produit] <= masse_libre_plateau and largeur[produit] <= largeur_libre_plateau):\n",
        "            return produit\n",
        "    return None\n",
        "\n",
        "\n",
        "\n",
        "def compose_plateau(commande, ordre):\n",
        "\t\"\"\" retourne un plateau, sous forme de liste de produits choisis par la fonction choisir_produit,\n",
        "\ten respectant les contraintes de masse et de largeur maximales autorisées pour un plateau. \n",
        "\t\"\"\"\n",
        "\t# initialisation d'un plateau\n",
        "\tplateau = []\n",
        "\tmasse_libre_plateau = masse_maxi_plateau\n",
        "\tlargeur_libre_plateau = largeur_maxi_plateau \n",
        "\t# choix d'un premier élément\n",
        "\tchoix = choisir_produit(commande, masse_libre_plateau, largeur_libre_plateau, ordre)\n",
        "\twhile choix != None: # tant que le choix retourne un des produits \n",
        "\t\t# inscription du produit sur le plateau\n",
        "\t\tplateau.append(choix) \n",
        "\t\t#actualisation des variables\n",
        "\t\tmasse_libre_plateau -= masse[choix] \n",
        "\t\tlargeur_libre_plateau -= largeur[choix]\n",
        "\t\tcommande[choix] -= 1\n",
        "\t\t# essai de choix d'un nouveau produit (si ce n'est pas possible, choix == None )\n",
        "\t\tchoix = choisir_produit(commande, masse_libre_plateau, largeur_libre_plateau, ordre)\n",
        "\treturn plateau\n",
        "\n",
        "\n",
        "def traitement_commande(commande, ordre):\n",
        "    livraison = []\n",
        "    com = dict(commande)\n",
        "    while nb_produits(com)>0:\n",
        "        livraison.append(compose_plateau(com, ordre))     \n",
        "    return livraison"
      ],
      "execution_count": null,
      "outputs": []
    },
    {
      "cell_type": "markdown",
      "metadata": {
        "id": "2CKcQC2JiTLh"
      },
      "source": [
        "## Test de l'algorithme glouton : 3 ordres différents"
      ]
    },
    {
      "cell_type": "code",
      "metadata": {
        "colab": {
          "base_uri": "https://localhost:8080/"
        },
        "id": "U90IMJD3iDBr",
        "outputId": "333820af-a7d5-4054-f0f1-2662a47e5c52"
      },
      "source": [
        "commande = {'A': 1, 'B': 1, 'C': 4, 'D': 3}\n",
        "\n",
        "resu1 = traitement_commande(commande, 'DCBA')\n",
        "resu2 = traitement_commande(commande, 'DBCA')\n",
        "resu3 = traitement_commande(commande, 'CDBA')\n",
        "\n",
        "print( 'DCBA (m), avec ', len(resu1),'plateaux : ', resu1)\n",
        "print('DBCA (L), avec ', len(resu2),'plateaux : ' ,resu2)\n",
        "print('CDBA (m/L), avec ', len(resu3),'plateaux : ' ,resu3)"
      ],
      "execution_count": null,
      "outputs": [
        {
          "output_type": "stream",
          "text": [
            "DCBA (m), avec  4 plateaux :  [['D', 'C'], ['D', 'C'], ['D', 'C'], ['C', 'B', 'A']]\n",
            "DBCA (L), avec  4 plateaux :  [['D', 'B'], ['D', 'C'], ['D', 'C'], ['C', 'C', 'A']]\n",
            "CDBA (m/L), avec  5 plateaux :  [['C', 'C', 'A'], ['C', 'C'], ['D', 'B'], ['D'], ['D']]\n"
          ],
          "name": "stdout"
        }
      ]
    },
    {
      "cell_type": "markdown",
      "metadata": {
        "id": "IyX_QRF0Z-0h"
      },
      "source": [
        "# Proposition pour le bloc 5 : fonction récursive"
      ]
    },
    {
      "cell_type": "markdown",
      "metadata": {
        "id": "8wTlb74jDJYV"
      },
      "source": [
        "### Données du problème et fonctions auxilliaires\n"
      ]
    },
    {
      "cell_type": "code",
      "metadata": {
        "id": "KO7L8_FREkep"
      },
      "source": [
        "masse={'A':1 ,'B':2 , 'C':3 , 'D':4 }\n",
        "largeur={'A':1 ,'B':2 , 'C':1 , 'D':2 }\n",
        "\n",
        "largeur_maxi_plateau = 4\n",
        "masse_maxi_plateau = 7\n",
        "\n",
        "\n",
        "\n",
        "def nb_produits(dico):\n",
        "    resu = 0\n",
        "    for cle in dico:\n",
        "        resu += dico[cle]\n",
        "    return resu\n",
        "\n",
        "def masse_plateau(plateau:list)->int:\n",
        "    resu = 0\n",
        "    for produit in plateau:\n",
        "\t    resu += masse[produit]\n",
        "    return resu\n",
        "\n",
        "def largeur_plateau(plateau:list)->int:\n",
        "\tresu = 0\n",
        "\tfor produit in plateau:\n",
        "\t\tresu += largeur[produit]\n",
        "\treturn resu\n",
        "\n",
        "  \n"
      ],
      "execution_count": 2,
      "outputs": []
    },
    {
      "cell_type": "code",
      "metadata": {
        "id": "ftDU_QFZ2OFS",
        "colab": {
          "base_uri": "https://localhost:8080/"
        },
        "outputId": "c04afbb5-7af7-4413-ef25-08d2b8d331af"
      },
      "source": [
        "#test des fonctions auxlilliaires\n",
        "largeur_plateau(['A','B','B','D']), masse_plateau(['A','B','B','D'])"
      ],
      "execution_count": 3,
      "outputs": [
        {
          "output_type": "execute_result",
          "data": {
            "text/plain": [
              "(7, 9)"
            ]
          },
          "metadata": {
            "tags": []
          },
          "execution_count": 3
        }
      ]
    },
    {
      "cell_type": "markdown",
      "metadata": {
        "id": "4oomHd2lrqbY"
      },
      "source": [
        "## Point de vigilance : définition des paramètres de l'appel récursif "
      ]
    },
    {
      "cell_type": "markdown",
      "metadata": {
        "id": "TomD3L5bde0d"
      },
      "source": [
        "Exemple avec la commande `{'B': 1,'D':1, 'C': 1}` dans le cas où `masse_maxi_plateau = 5`\n",
        "\n",
        "La solution attendue contient 2 plateaux par ex : `[B,C]` et `[D]`\n",
        "\n",
        "    + B\n",
        "       + D\n",
        "          + C\n",
        "       + C\n",
        "          + D\n",
        "    + D\n",
        "       + B\n",
        "          + C\n",
        "       + C\n",
        "          + B\n",
        "    + C\n",
        "       + B\n",
        "          + D\n",
        "       + D\n",
        "          + B"
      ]
    },
    {
      "cell_type": "code",
      "metadata": {
        "colab": {
          "base_uri": "https://localhost:8080/"
        },
        "id": "m__Klmar1ykw",
        "outputId": "52d8ab5d-6d70-421b-c3ba-f021a8f462b3"
      },
      "source": [
        "largeur_maxi_plateau = 4\n",
        "masse_maxi_plateau = 5\n",
        "couleurs = ['\\033[0m' ,'\\033[92m', '\\033[93m', '\\033[91m']\n",
        "\n",
        "def explore(commande, livraison=[], plateau=[], profondeur=1):\n",
        "    # cas de base : tous les produits ont été traités\n",
        "    if nb_produits(commande)==0:\n",
        "        return livraison+[plateau] if plateau !=[] else livraison\n",
        "    else: \n",
        "        flag = True \n",
        "        for produit in commande:\n",
        "            if commande[produit]>0:\n",
        "                print( '   '*profondeur ,f'{couleurs[1+profondeur%3]}   Livraison:{livraison}  Plateau:{plateau}')\n",
        "                print( '   '*profondeur ,f'{couleurs[1+profondeur%3]}+ {produit}')\n",
        "                if masse[produit]+masse_plateau(plateau) <= masse_maxi_plateau and largeur[produit]+largeur_plateau(plateau) <= largeur_maxi_plateau :\n",
        "                    plateau = plateau + [produit]\n",
        "                    livraison = list(livraison)\n",
        "                else: \n",
        "                    livraison = livraison + [plateau]\n",
        "                    plateau = [produit]\n",
        "                #commande[produit]-=1\n",
        "                new_commande = {cle:commande[cle]-1 if cle == produit else commande[cle] for cle in commande }\n",
        "                ####print( '   '*profondeur ,f'{couleurs[1+profondeur%3]}   Livraison:{livraison}  Plateau:{plateau}')\n",
        "                exploration = explore(new_commande, livraison, plateau, profondeur+1)\n",
        "                if flag: \n",
        "                    best = exploration \n",
        "                    flag = False \n",
        "                elif len(exploration)< len(best):\n",
        "                    best = exploration \n",
        "                print( '   '*profondeur ,f'{couleurs[0]}   best = {best}')\n",
        "        print(f\"{couleurs[0]}\", end='')\n",
        "        return best\n",
        "\n",
        "\n",
        "print(explore({'B': 1,'D':1, 'C': 1}))"
      ],
      "execution_count": 32,
      "outputs": [
        {
          "output_type": "stream",
          "text": [
            "    \u001b[93m   Livraison:[]  Plateau:[]\n",
            "    \u001b[93m+ B\n",
            "       \u001b[91m   Livraison:[]  Plateau:['B']\n",
            "       \u001b[91m+ D\n",
            "          \u001b[92m   Livraison:[['B']]  Plateau:['D']\n",
            "          \u001b[92m+ C\n",
            "          \u001b[0m   best = [['B'], ['D'], ['C']]\n",
            "\u001b[0m       \u001b[0m   best = [['B'], ['D'], ['C']]\n",
            "       \u001b[91m   Livraison:[['B']]  Plateau:['D']\n",
            "       \u001b[91m+ C\n",
            "          \u001b[92m   Livraison:[['B'], ['D']]  Plateau:['C']\n",
            "          \u001b[92m+ D\n",
            "          \u001b[0m   best = [['B'], ['D'], ['C'], ['D']]\n",
            "\u001b[0m       \u001b[0m   best = [['B'], ['D'], ['C']]\n",
            "\u001b[0m    \u001b[0m   best = [['B'], ['D'], ['C']]\n",
            "    \u001b[93m   Livraison:[]  Plateau:['B']\n",
            "    \u001b[93m+ D\n",
            "       \u001b[91m   Livraison:[['B']]  Plateau:['D']\n",
            "       \u001b[91m+ B\n",
            "          \u001b[92m   Livraison:[['B'], ['D']]  Plateau:['B']\n",
            "          \u001b[92m+ C\n",
            "          \u001b[0m   best = [['B'], ['D'], ['B', 'C']]\n",
            "\u001b[0m       \u001b[0m   best = [['B'], ['D'], ['B', 'C']]\n",
            "       \u001b[91m   Livraison:[['B'], ['D']]  Plateau:['B']\n",
            "       \u001b[91m+ C\n",
            "          \u001b[92m   Livraison:[['B'], ['D']]  Plateau:['B', 'C']\n",
            "          \u001b[92m+ B\n",
            "          \u001b[0m   best = [['B'], ['D'], ['B', 'C'], ['B']]\n",
            "\u001b[0m       \u001b[0m   best = [['B'], ['D'], ['B', 'C']]\n",
            "\u001b[0m    \u001b[0m   best = [['B'], ['D'], ['C']]\n",
            "    \u001b[93m   Livraison:[['B']]  Plateau:['D']\n",
            "    \u001b[93m+ C\n",
            "       \u001b[91m   Livraison:[['B'], ['D']]  Plateau:['C']\n",
            "       \u001b[91m+ B\n",
            "          \u001b[92m   Livraison:[['B'], ['D']]  Plateau:['C', 'B']\n",
            "          \u001b[92m+ D\n",
            "          \u001b[0m   best = [['B'], ['D'], ['C', 'B'], ['D']]\n",
            "\u001b[0m       \u001b[0m   best = [['B'], ['D'], ['C', 'B'], ['D']]\n",
            "       \u001b[91m   Livraison:[['B'], ['D']]  Plateau:['C', 'B']\n",
            "       \u001b[91m+ D\n",
            "          \u001b[92m   Livraison:[['B'], ['D'], ['C', 'B']]  Plateau:['D']\n",
            "          \u001b[92m+ B\n",
            "          \u001b[0m   best = [['B'], ['D'], ['C', 'B'], ['D'], ['B']]\n",
            "\u001b[0m       \u001b[0m   best = [['B'], ['D'], ['C', 'B'], ['D']]\n",
            "\u001b[0m    \u001b[0m   best = [['B'], ['D'], ['C']]\n",
            "\u001b[0m[['B'], ['D'], ['C']]\n"
          ],
          "name": "stdout"
        }
      ]
    },
    {
      "cell_type": "markdown",
      "metadata": {
        "id": "8au0uAG3hUeN"
      },
      "source": [
        "* [la variable commande](http://www.pythontutor.com/visualize.html#code=masse%3D%7B'A'%3A1%20,'B'%3A2%20,%20'C'%3A3%20,%20'D'%3A4%20%7D%0Alargeur%3D%7B'A'%3A1%20,'B'%3A2%20,%20'C'%3A1%20,%20'D'%3A2%20%7D%0A%0Alargeur_maxi_plateau%20%3D%204%0Amasse_maxi_plateau%20%3D%205%0A%0Adef%20nb_produits%28dico%29%3A%0A%20%20%20%20resu%20%3D%200%0A%20%20%20%20for%20cle%20in%20dico%3A%0A%20%20%20%20%20%20%20%20resu%20%2B%3D%20dico%5Bcle%5D%0A%20%20%20%20return%20resu%0A%0Adef%20masse_plateau%28plateau%3Alist%29-%3Eint%3A%0A%20%20%20%20resu%20%3D%200%0A%20%20%20%20for%20produit%20in%20plateau%3A%0A%20%20%20%20%20%20%20%20resu%20%2B%3D%20masse%5Bproduit%5D%0A%20%20%20%20return%20resu%0A%0Adef%20largeur_plateau%28plateau%3Alist%29-%3Eint%3A%0A%20%20%20%20resu%20%3D%200%0A%20%20%20%20for%20produit%20in%20plateau%3A%0A%20%20%20%20%20%20%20%20resu%20%2B%3D%20largeur%5Bproduit%5D%0A%20%20%20%20return%20resu%0A%0Adef%20explore%28commande,%20livraison%3D%5B%5D,%20plateau%3D%5B%5D%29%3A%0A%20%20%20%20%23%20cas%20de%20base%20%3A%20tous%20les%20produits%20ont%20%C3%A9t%C3%A9%20trait%C3%A9s%0A%20%20%20%20if%20nb_produits%28commande%29%3D%3D0%3A%0A%20%20%20%20%20%20%20%20return%20livraison%2B%5Bplateau%5D%20if%20plateau%20!%3D%5B%5D%20else%20livraison%0A%20%20%20%20else%3A%20%23%20cas%20r%C3%A9cursif%0A%20%20%20%20%20%20%20%20flag%20%3D%20True%20%23drapeau%20servant%20%C3%A0%20rep%C3%A9rer%20le%20premier%20passage%20dans%20la%20boucle%20for%0A%20%20%20%20%20%20%20%20for%20produit%20in%20commande%3A%0A%20%20%20%20%20%20%20%20%20%20%20%20if%20commande%5Bproduit%5D%3E0%3A%0A%20%20%20%20%20%20%20%20%20%20%20%20%20%20%20%20%23%20le%20produit%20peut-il%20%C3%AAtre%20ajout%C3%A9%20au%20plateau%20%3F%0A%20%20%20%20%20%20%20%20%20%20%20%20%20%20%20%20if%20masse%5Bproduit%5D%2Bmasse_plateau%28plateau%29%20%3C%3D%20masse_maxi_plateau%20and%20largeur%5Bproduit%5D%2Blargeur_plateau%28plateau%29%20%3C%3D%20largeur_maxi_plateau%20%3A%0A%20%20%20%20%20%20%20%20%20%20%20%20%20%20%20%20%20%20%20%20%23%20oui%20%3A%20le%20produit%20est%20ajout%C3%A9%20au%20plateau%0A%20%20%20%20%20%20%20%20%20%20%20%20%20%20%20%20%20%20%20%20plateau.append%28produit%29%0A%20%20%20%20%20%20%20%20%20%20%20%20%20%20%20%20else%3A%20%23non%20%3A%20le%20produit%20est%20plac%C3%A9%20sur%20un%20nouveau%20plateau%0A%20%20%20%20%20%20%20%20%20%20%20%20%20%20%20%20%20%20%20%20livraison.append%28plateau%29%0A%20%20%20%20%20%20%20%20%20%20%20%20%20%20%20%20%20%20%20%20plateau%20%3D%20%5Bproduit%5D%0A%20%20%20%20%20%20%20%20%20%20%20%20%20%20%20%20%23%20appel%20r%C3%A9cursif%0A%20%20%20%20%20%20%20%20%20%20%20%20%20%20%20%20commande%5Bproduit%5D%20-%3D%201%0A%20%20%20%20%20%20%20%20%20%20%20%20%20%20%20%20exploration%20%3D%20explore%28commande,%20livraison,%20plateau%29%0A%20%20%20%20%20%20%20%20%20%20%20%20%20%20%20%20if%20flag%3A%20%23%20premier%20passage%20dans%20la%20boucle%20for%0A%20%20%20%20%20%20%20%20%20%20%20%20%20%20%20%20%20%20%20%20best%20%3D%20exploration%20%23%20la%20meilleure%20solution%20rencontr%C3%A9e%20est%20la%20seule%20test%C3%A9e%20!%20%0A%20%20%20%20%20%20%20%20%20%20%20%20%20%20%20%20%20%20%20%20flag%20%3D%20False%20%0A%20%20%20%20%20%20%20%20%20%20%20%20%20%20%20%20elif%20len%28exploration%29%3C%20len%28best%29%3A%20%23%20on%20conserve%20%C3%A0%20chaque%20passage%20la%20solution%20la%20plus%20courte%0A%20%20%20%20%20%20%20%20%20%20%20%20%20%20%20%20%20%20%20%20best%20%3D%20exploration%20%0A%20%20%20%20%20%20%20%20return%20best%0A%0Aprint%28explore%28%7B'B'%3A%201,'D'%3A1,%20'C'%3A%201%7D%29%29&cumulative=false&curInstr=8&heapPrimitives=nevernest&mode=display&origin=opt-frontend.js&py=3&rawInputLstJSON=%5B%5D&textReferences=false)"
      ]
    },
    {
      "cell_type": "markdown",
      "metadata": {
        "id": "EBqoJ5lGjOym"
      },
      "source": [
        "#### backup"
      ]
    },
    {
      "cell_type": "code",
      "metadata": {
        "id": "djGcWMvngYB7"
      },
      "source": [
        "largeur_maxi_plateau = 4\n",
        "masse_maxi_plateau = 5\n",
        "couleurs = ['\\033[0m' ,'\\033[92m', '\\033[93m', '\\033[91m']\n",
        "\n",
        "def explore(commande, livraison=[], plateau=[], profondeur=1):\n",
        "    # cas de base : tous les produits ont été traités\n",
        "    if nb_produits(commande)==0:\n",
        "        return livraison+[plateau] if plateau !=[] else livraison\n",
        "    else: \n",
        "        flag = True \n",
        "        for produit in commande:\n",
        "            if commande[produit]>0:\n",
        "                ###print( '   '*profondeur ,f'{couleurs[1+profondeur%3]}   Livraison:{livraison}  Plateau:{plateau}')\n",
        "                print( '   '*profondeur ,f'{couleurs[1+profondeur%3]}+ {produit}')\n",
        "                if masse[produit]+masse_plateau(plateau) <= masse_maxi_plateau and largeur[produit]+largeur_plateau(plateau) <= largeur_maxi_plateau :\n",
        "                    plateau = plateau + [produit]\n",
        "                    livraison = list(livraison)\n",
        "                else: \n",
        "                    livraison = livraison + [plateau]\n",
        "                    plateau = [produit]\n",
        "                commande[produit]-=1\n",
        "                #new_commande = {cle:commande[cle]-1 if cle == produit else commande[cle] for cle in commande }\n",
        "                ####print( '   '*profondeur ,f'{couleurs[1+profondeur%3]}   Livraison:{livraison}  Plateau:{plateau}')\n",
        "                exploration = explore(commande, livraison, plateau, profondeur+1)\n",
        "                if flag: \n",
        "                    best = exploration \n",
        "                    flag = False \n",
        "                elif len(exploration)< len(best):\n",
        "                    best = exploration \n",
        "                ##print( '   '*profondeur ,f'{couleurs[0]}   best = {best}')\n",
        "        print(f\"{couleurs[0]}\", end='')\n",
        "        return best\n",
        "\n",
        "\n",
        "print(explore({'B': 1,'D':1, 'C': 1}))"
      ],
      "execution_count": null,
      "outputs": []
    },
    {
      "cell_type": "markdown",
      "metadata": {
        "id": "TmoaAKaTYkWT"
      },
      "source": [
        "## La fonction récursive : `explore`"
      ]
    },
    {
      "cell_type": "code",
      "metadata": {
        "id": "tyDEidqmSlzM"
      },
      "source": [
        "def explore(commande, livraison=[], plateau=[]):\n",
        "    # cas de base : tous les produits ont été traités\n",
        "    if nb_produits(commande)==0:\n",
        "        return livraison+[plateau] if plateau !=[] else livraison\n",
        "    else: # cas récursif\n",
        "        flag = True #drapeau servant à repérer le premier passage dans la boucle for\n",
        "        for produit in commande:\n",
        "            if commande[produit]>0:\n",
        "                # le produit peut-il être ajouté au plateau ?\n",
        "                if masse[produit]+masse_plateau(plateau) <= masse_maxi_plateau and largeur[produit]+largeur_plateau(plateau) <= largeur_maxi_plateau :\n",
        "                    # oui : le produit est ajouté au plateau\n",
        "                    new_plateau = plateau + [produit]\n",
        "                    new_livraison = list(livraison)\n",
        "                else: #non : le produit est placé sur un nouveau plateau\n",
        "                    new_livraison = livraison + [plateau]\n",
        "                    new_plateau = [produit]\n",
        "                # appel récursif\n",
        "                new_commande = {cle:commande[cle]-1 if cle == produit else commande[cle] for cle in commande }\n",
        "                exploration = explore(new_commande, new_livraison, new_plateau)\n",
        "                if flag: # premier passage dans la boucle for\n",
        "                    best = exploration # la meilleure solution rencontrée est la seule testée ! \n",
        "                    flag = False \n",
        "                elif len(exploration)< len(best): # on conserve à chaque passage la solution la plus courte\n",
        "                    best = exploration \n",
        "        return best"
      ],
      "execution_count": null,
      "outputs": []
    },
    {
      "cell_type": "markdown",
      "metadata": {
        "id": "7GXssDGfaHQi"
      },
      "source": [
        "## TESTS"
      ]
    },
    {
      "cell_type": "code",
      "metadata": {
        "id": "WNye2DwL9RWt",
        "colab": {
          "base_uri": "https://localhost:8080/"
        },
        "outputId": "33a858ec-3315-4497-b83b-d1e4df12d441"
      },
      "source": [
        "explore({'A': 3, 'B': 3, 'C': 1, 'D': 1})"
      ],
      "execution_count": null,
      "outputs": [
        {
          "output_type": "execute_result",
          "data": {
            "text/plain": [
              "[['A', 'A', 'A', 'C'], ['B', 'B'], ['B', 'D']]"
            ]
          },
          "metadata": {
            "tags": []
          },
          "execution_count": 10
        }
      ]
    },
    {
      "cell_type": "code",
      "metadata": {
        "id": "l2av07Pj-poC",
        "colab": {
          "base_uri": "https://localhost:8080/"
        },
        "outputId": "a5256a64-2ec4-4baa-f544-238dfa25dd84"
      },
      "source": [
        "explore({'A': 6, 'B': 1, 'C': 5, 'D': 4})"
      ],
      "execution_count": null,
      "outputs": [
        {
          "output_type": "execute_result",
          "data": {
            "text/plain": [
              "[['A', 'A', 'A', 'C'],\n",
              " ['A', 'A', 'A', 'C'],\n",
              " ['B', 'D'],\n",
              " ['C', 'D'],\n",
              " ['C', 'D'],\n",
              " ['C', 'D']]"
            ]
          },
          "metadata": {
            "tags": []
          },
          "execution_count": 6
        }
      ]
    },
    {
      "cell_type": "markdown",
      "metadata": {
        "id": "iu5c1a0XA0w_"
      },
      "source": [
        "Cette solution est aussi efficace que le meilleur des trois algos gloutons testés\n",
        "\n",
        "- DCBA (m), avec  7 plateaux :  [['D', 'C'], ['D', 'C'], ['D', 'C'], ['D', 'C'], ['C', 'B', 'A'], ['A', 'A', 'A', 'A'], ['A']]\n",
        "\n",
        "- DBCA (L), avec  7 plateaux :  [['D', 'B'], ['D', 'C'], ['D', 'C'], ['D', 'C'], ['C', 'C', 'A'], ['A', 'A', 'A', 'A'], ['A']]\n",
        "\n",
        "- CDBA (m/L), avec  **6 plateaux** :  [['C', 'C', 'A'], ['C', 'C', 'A'], ['C', 'D'], ['D', 'B'], ['D', 'A', 'A'], ['D', 'A', 'A']]"
      ]
    },
    {
      "cell_type": "code",
      "metadata": {
        "id": "oN75kuxt_CCW"
      },
      "source": [
        "# ATTENTION TRÈS LONG : durée maxi estimée à 5 heures... \n",
        "#explore({'A': 6, 'B': 3, 'C': 5, 'D': 6})"
      ],
      "execution_count": null,
      "outputs": []
    },
    {
      "cell_type": "markdown",
      "metadata": {
        "id": "qkvC5W0QEgNV"
      },
      "source": [
        "Pour la commande : {'A': 6, 'B': 3, 'C': 5, 'D': 6}\n",
        "un algo glouton (m/L) permet de trouver une solution avec  8 plateaux :  \n",
        "\n",
        "[['C', 'C', 'A'], ['C', 'C', 'A'], ['C', 'D'], ['D', 'B'], ['D', 'B'], ['D', 'B'], ['D', 'A', 'A'], ['D', 'A', 'A']]"
      ]
    },
    {
      "cell_type": "markdown",
      "metadata": {
        "id": "TyhlwKYGGLPX"
      },
      "source": [
        "# Pour améliorer (légèrement) l'efficacité\n",
        "On peut définir une **limite** pour la taille du plateau, au delà de laquelle l'exploration est interrompue\n"
      ]
    },
    {
      "cell_type": "code",
      "metadata": {
        "id": "PM8eAHnIGsg1"
      },
      "source": [
        "def explore(commande:dict, limit:list, livraison=[], plateau=[]):\n",
        "    \"\"\"limit est une solution déjà connue pour le problème : on cherche s'il existe une solution strictement meilleure \"\"\"\n",
        "    if nb_produits(commande)==0:\n",
        "        return livraison+[plateau] if plateau !=[] else livraison\n",
        "    elif len(livraison)>=len(limit):\n",
        "        return limit\n",
        "    else:\n",
        "        flag = True #drapeau servant à initialiser la recherche de livraison de longeur minimale\n",
        "        for produit in commande:\n",
        "            if commande[produit]>0:\n",
        "                # le produit peut-il être ajouté au plateau ?\n",
        "                if masse[produit]+masse_plateau(plateau) <= masse_maxi_plateau and largeur[produit]+largeur_plateau(plateau) <= largeur_maxi_plateau :\n",
        "                    # oui : le produit est ajouté au plateau\n",
        "                    new_plateau = plateau + [produit]\n",
        "                    new_livraison = list(livraison)\n",
        "                else: #non : le produit est placé sur un nouveau plateau\n",
        "                    new_livraison = livraison + [plateau]\n",
        "                    new_plateau = [produit]\n",
        "                # appel récursif\n",
        "                commande_sans_le_produit = {cle:commande[cle]-1 if cle == produit else commande[cle] for cle in commande }\n",
        "                exploration = explore(commande_sans_le_produit, limit, new_livraison, new_plateau )\n",
        "                if flag:\n",
        "                    best = exploration\n",
        "                    longueur = len(best)\n",
        "                    flag = False\n",
        "                elif len(exploration)< longueur:\n",
        "                    best = exploration\n",
        "                    longueur = len(best)\n",
        "                if longueur < len(limit):\n",
        "                    limit = best\n",
        "        return best\n",
        "\n",
        "def optimise(commande, limit):\n",
        "    return explore(commande, limit)\n",
        "       \n"
      ],
      "execution_count": null,
      "outputs": []
    },
    {
      "cell_type": "code",
      "metadata": {
        "id": "Q1v3YfGun3pe"
      },
      "source": [
        "commande = {'A': 6, 'B': 1, 'C': 5, 'D': 4}\n",
        "glouton = traitement_commande(commande, 'DBCA')"
      ],
      "execution_count": null,
      "outputs": []
    },
    {
      "cell_type": "code",
      "metadata": {
        "id": "QZgwjGOPmnJP",
        "colab": {
          "base_uri": "https://localhost:8080/",
          "height": 119
        },
        "outputId": "5d0f2a98-5666-46b0-d44a-ee08b1fdf8e6"
      },
      "source": [
        "optimise(commande, glouton)"
      ],
      "execution_count": null,
      "outputs": [
        {
          "output_type": "execute_result",
          "data": {
            "text/plain": [
              "[['A', 'A', 'A', 'C'],\n",
              " ['A', 'A', 'A', 'C'],\n",
              " ['B', 'D'],\n",
              " ['C', 'D'],\n",
              " ['C', 'D'],\n",
              " ['C', 'D']]"
            ]
          },
          "metadata": {
            "tags": []
          },
          "execution_count": 13
        }
      ]
    },
    {
      "cell_type": "markdown",
      "metadata": {
        "id": "-QGG6Vt7oz42"
      },
      "source": [
        "Pour cette commande, le temps d'exécution passe de 69.5s à 47.5s environ, grâce à l'ajout de la limite (trouvée avec un algorithme glouton)."
      ]
    }
  ]
}