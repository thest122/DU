{
  "nbformat": 4,
  "nbformat_minor": 0,
  "metadata": {
    "colab": {
      "name": "Bloc5_TF.ipynb",
      "provenance": [],
      "collapsed_sections": [
        "VUARUvVRiPDk",
        "8wTlb74jDJYV",
        "4oomHd2lrqbY",
        "EBqoJ5lGjOym",
        "TmoaAKaTYkWT"
      ],
      "authorship_tag": "ABX9TyM6R3hiQxxuphBC3PDVXdCg",
      "include_colab_link": true
    },
    "kernelspec": {
      "name": "python3",
      "display_name": "Python 3"
    },
    "language_info": {
      "name": "python"
    }
  },
  "cells": [
    {
      "cell_type": "markdown",
      "metadata": {
        "id": "view-in-github",
        "colab_type": "text"
      },
      "source": [
        "<a href=\"https://colab.research.google.com/github/thest122/DU/blob/main/Bloc5_TF.ipynb\" target=\"_parent\"><img src=\"https://colab.research.google.com/assets/colab-badge.svg\" alt=\"Open In Colab\"/></a>"
      ]
    },
    {
      "cell_type": "markdown",
      "metadata": {
        "id": "VUARUvVRiPDk"
      },
      "source": [
        "# Algorithme glouton (bloc 2)"
      ]
    },
    {
      "cell_type": "code",
      "metadata": {
        "id": "GQ4c_9Zehq6X"
      },
      "source": [
        "masse={'A':1 ,'B':2 , 'C':3 , 'D':4 }\n",
        "largeur={'A':1 ,'B':2 , 'C':1 , 'D':2 }\n",
        "largeur_maxi_plateau = 4\n",
        "masse_maxi_plateau = 7\n",
        "\n",
        "\n",
        "\n",
        "def nb_produits(dico):\n",
        "    resu = 0\n",
        "    for cle in dico:\n",
        "        resu += dico[cle]\n",
        "    return resu\n",
        "\n",
        "\n",
        "\n",
        "def choisir_produit(commande, masse_libre_plateau, largeur_libre_plateau, ordre):\n",
        "    \"\"\" retourne la clé d'un article qui\n",
        "    - figure dans la commande et\n",
        "    - respecte les contraintes de masse et de largeur\n",
        "    si aucun article ne convient, la fonction retourne None\n",
        "    \"\"\"\n",
        "    for produit in ordre :  \n",
        "        if (produit in commande and commande[produit]>0 and masse[produit] <= masse_libre_plateau and largeur[produit] <= largeur_libre_plateau):\n",
        "            return produit\n",
        "    return None\n",
        "\n",
        "\n",
        "\n",
        "def compose_plateau(commande, ordre):\n",
        "\t\"\"\" retourne un plateau, sous forme de liste de produits choisis par la fonction choisir_produit,\n",
        "\ten respectant les contraintes de masse et de largeur maximales autorisées pour un plateau. \n",
        "\t\"\"\"\n",
        "\t# initialisation d'un plateau\n",
        "\tplateau = []\n",
        "\tmasse_libre_plateau = masse_maxi_plateau\n",
        "\tlargeur_libre_plateau = largeur_maxi_plateau \n",
        "\t# choix d'un premier élément\n",
        "\tchoix = choisir_produit(commande, masse_libre_plateau, largeur_libre_plateau, ordre)\n",
        "\twhile choix != None: # tant que le choix retourne un des produits \n",
        "\t\t# inscription du produit sur le plateau\n",
        "\t\tplateau.append(choix) \n",
        "\t\t#actualisation des variables\n",
        "\t\tmasse_libre_plateau -= masse[choix] \n",
        "\t\tlargeur_libre_plateau -= largeur[choix]\n",
        "\t\tcommande[choix] -= 1\n",
        "\t\t# essai de choix d'un nouveau produit (si ce n'est pas possible, choix == None )\n",
        "\t\tchoix = choisir_produit(commande, masse_libre_plateau, largeur_libre_plateau, ordre)\n",
        "\treturn plateau\n",
        "\n",
        "\n",
        "def traitement_commande(commande, ordre):\n",
        "    livraison = []\n",
        "    com = dict(commande)\n",
        "    while nb_produits(com)>0:\n",
        "        livraison.append(compose_plateau(com, ordre))     \n",
        "    return livraison"
      ],
      "execution_count": null,
      "outputs": []
    },
    {
      "cell_type": "markdown",
      "metadata": {
        "id": "2CKcQC2JiTLh"
      },
      "source": [
        "## Test de l'algorithme glouton : 3 ordres différents"
      ]
    },
    {
      "cell_type": "code",
      "metadata": {
        "colab": {
          "base_uri": "https://localhost:8080/"
        },
        "id": "U90IMJD3iDBr",
        "outputId": "333820af-a7d5-4054-f0f1-2662a47e5c52"
      },
      "source": [
        "commande = {'A': 1, 'B': 1, 'C': 4, 'D': 3}\n",
        "\n",
        "resu1 = traitement_commande(commande, 'DCBA')\n",
        "resu2 = traitement_commande(commande, 'DBCA')\n",
        "resu3 = traitement_commande(commande, 'CDBA')\n",
        "\n",
        "print( 'DCBA (m), avec ', len(resu1),'plateaux : ', resu1)\n",
        "print('DBCA (L), avec ', len(resu2),'plateaux : ' ,resu2)\n",
        "print('CDBA (m/L), avec ', len(resu3),'plateaux : ' ,resu3)"
      ],
      "execution_count": null,
      "outputs": [
        {
          "output_type": "stream",
          "text": [
            "DCBA (m), avec  4 plateaux :  [['D', 'C'], ['D', 'C'], ['D', 'C'], ['C', 'B', 'A']]\n",
            "DBCA (L), avec  4 plateaux :  [['D', 'B'], ['D', 'C'], ['D', 'C'], ['C', 'C', 'A']]\n",
            "CDBA (m/L), avec  5 plateaux :  [['C', 'C', 'A'], ['C', 'C'], ['D', 'B'], ['D'], ['D']]\n"
          ],
          "name": "stdout"
        }
      ]
    },
    {
      "cell_type": "markdown",
      "metadata": {
        "id": "IyX_QRF0Z-0h"
      },
      "source": [
        "# Proposition pour le bloc 5 : fonction récursive"
      ]
    },
    {
      "cell_type": "markdown",
      "metadata": {
        "id": "8wTlb74jDJYV"
      },
      "source": [
        "### Données du problème et fonctions auxilliaires\n"
      ]
    },
    {
      "cell_type": "code",
      "metadata": {
        "id": "KO7L8_FREkep"
      },
      "source": [
        "masse={'A':1 ,'B':2 , 'C':3 , 'D':4 }\n",
        "largeur={'A':1 ,'B':2 , 'C':1 , 'D':2 }\n",
        "\n",
        "largeur_maxi_plateau = 4\n",
        "masse_maxi_plateau = 7\n",
        "\n",
        "\n",
        "\n",
        "def nb_produits(dico):\n",
        "    resu = 0\n",
        "    for cle in dico:\n",
        "        resu += dico[cle]\n",
        "    return resu\n",
        "\n",
        "def masse_plateau(plateau:list)->int:\n",
        "    resu = 0\n",
        "    for produit in plateau:\n",
        "\t    resu += masse[produit]\n",
        "    return resu\n",
        "\n",
        "def largeur_plateau(plateau:list)->int:\n",
        "\tresu = 0\n",
        "\tfor produit in plateau:\n",
        "\t\tresu += largeur[produit]\n",
        "\treturn resu\n",
        "\n",
        "  \n"
      ],
      "execution_count": null,
      "outputs": []
    },
    {
      "cell_type": "markdown",
      "metadata": {
        "id": "TmoaAKaTYkWT"
      },
      "source": [
        "## La fonction récursive : `explore`"
      ]
    },
    {
      "cell_type": "code",
      "metadata": {
        "id": "tyDEidqmSlzM"
      },
      "source": [
        "def explore(commande, livraison=[], plateau=[]):\n",
        "    # cas de base : tous les produits ont été traités\n",
        "    if nb_produits(commande)==0:\n",
        "        return livraison+[plateau] if plateau !=[] else livraison\n",
        "    else: # cas récursif\n",
        "        flag = True #drapeau servant à repérer le premier passage dans la boucle for\n",
        "        for produit in commande:\n",
        "            if commande[produit]>0:\n",
        "                # le produit peut-il être ajouté au plateau ?\n",
        "                if masse[produit]+masse_plateau(plateau) <= masse_maxi_plateau and largeur[produit]+largeur_plateau(plateau) <= largeur_maxi_plateau :\n",
        "                    # oui : le produit est ajouté au plateau\n",
        "                    new_plateau = plateau + [produit]\n",
        "                    new_livraison = list(livraison)\n",
        "                else: #non : le produit est placé sur un nouveau plateau\n",
        "                    new_livraison = livraison + [plateau]\n",
        "                    new_plateau = [produit]\n",
        "                # appel récursif\n",
        "                new_commande = {cle:commande[cle]-1 if cle == produit else commande[cle] for cle in commande }\n",
        "                exploration = explore(new_commande, new_livraison, new_plateau)\n",
        "                if flag: # premier passage dans la boucle for\n",
        "                    best = exploration # la meilleure solution rencontrée est la seule testée ! \n",
        "                    flag = False \n",
        "                elif len(exploration)< len(best): # on conserve à chaque passage la solution la plus courte\n",
        "                    best = exploration \n",
        "        return best"
      ],
      "execution_count": null,
      "outputs": []
    },
    {
      "cell_type": "markdown",
      "metadata": {
        "id": "7GXssDGfaHQi"
      },
      "source": [
        "## TESTS"
      ]
    },
    {
      "cell_type": "code",
      "metadata": {
        "id": "WNye2DwL9RWt",
        "colab": {
          "base_uri": "https://localhost:8080/"
        },
        "outputId": "33a858ec-3315-4497-b83b-d1e4df12d441"
      },
      "source": [
        "explore({'A': 3, 'B': 3, 'C': 1, 'D': 1})"
      ],
      "execution_count": null,
      "outputs": [
        {
          "output_type": "execute_result",
          "data": {
            "text/plain": [
              "[['A', 'A', 'A', 'C'], ['B', 'B'], ['B', 'D']]"
            ]
          },
          "metadata": {
            "tags": []
          },
          "execution_count": 10
        }
      ]
    },
    {
      "cell_type": "code",
      "metadata": {
        "id": "l2av07Pj-poC",
        "colab": {
          "base_uri": "https://localhost:8080/"
        },
        "outputId": "a5256a64-2ec4-4baa-f544-238dfa25dd84"
      },
      "source": [
        "explore({'A': 6, 'B': 1, 'C': 5, 'D': 4}) # Attention : exécution longue (1 à 2 minutes)"
      ],
      "execution_count": null,
      "outputs": [
        {
          "output_type": "execute_result",
          "data": {
            "text/plain": [
              "[['A', 'A', 'A', 'C'],\n",
              " ['A', 'A', 'A', 'C'],\n",
              " ['B', 'D'],\n",
              " ['C', 'D'],\n",
              " ['C', 'D'],\n",
              " ['C', 'D']]"
            ]
          },
          "metadata": {
            "tags": []
          },
          "execution_count": 6
        }
      ]
    },
    {
      "cell_type": "markdown",
      "metadata": {
        "id": "iu5c1a0XA0w_"
      },
      "source": [
        "Cette solution est aussi efficace que le meilleur des trois algos gloutons testés\n",
        "\n",
        "- DCBA (m), avec  7 plateaux :  [['D', 'C'], ['D', 'C'], ['D', 'C'], ['D', 'C'], ['C', 'B', 'A'], ['A', 'A', 'A', 'A'], ['A']]\n",
        "\n",
        "- DBCA (L), avec  7 plateaux :  [['D', 'B'], ['D', 'C'], ['D', 'C'], ['D', 'C'], ['C', 'C', 'A'], ['A', 'A', 'A', 'A'], ['A']]\n",
        "\n",
        "- CDBA (m/L), avec  **6 plateaux** :  [['C', 'C', 'A'], ['C', 'C', 'A'], ['C', 'D'], ['D', 'B'], ['D', 'A', 'A'], ['D', 'A', 'A']]"
      ]
    },
    {
      "cell_type": "code",
      "metadata": {
        "id": "oN75kuxt_CCW"
      },
      "source": [
        "# ATTENTION TRÈS LONG : durée maxi estimée à 5 heures... \n",
        "#explore({'A': 6, 'B': 3, 'C': 5, 'D': 6})"
      ],
      "execution_count": null,
      "outputs": []
    },
    {
      "cell_type": "markdown",
      "metadata": {
        "id": "qkvC5W0QEgNV"
      },
      "source": [
        "Pour la commande : {'A': 6, 'B': 3, 'C': 5, 'D': 6}\n",
        "un algo glouton (m/L) permet de trouver une solution avec  8 plateaux :  \n",
        "\n",
        "[['C', 'C', 'A'], ['C', 'C', 'A'], ['C', 'D'], ['D', 'B'], ['D', 'B'], ['D', 'B'], ['D', 'A', 'A'], ['D', 'A', 'A']]"
      ]
    },
    {
      "cell_type": "markdown",
      "metadata": {
        "id": "TyhlwKYGGLPX"
      },
      "source": [
        "# Pour améliorer (légèrement) l'efficacité\n",
        "On peut définir une **limite** pour la taille du plateau, au delà de laquelle l'exploration est interrompue\n"
      ]
    },
    {
      "cell_type": "code",
      "metadata": {
        "id": "PM8eAHnIGsg1"
      },
      "source": [
        "def explore(commande:dict, limit:list, livraison=[], plateau=[]):\n",
        "    \"\"\"limit est une solution déjà connue pour le problème : on cherche s'il existe une solution strictement meilleure \"\"\"\n",
        "    if nb_produits(commande)==0:\n",
        "        return livraison+[plateau] if plateau !=[] else livraison\n",
        "    elif len(livraison)>=len(limit):\n",
        "        return limit\n",
        "    else:\n",
        "        flag = True #drapeau servant à initialiser la recherche de livraison de longeur minimale\n",
        "        for produit in commande:\n",
        "            if commande[produit]>0:\n",
        "                # le produit peut-il être ajouté au plateau ?\n",
        "                if masse[produit]+masse_plateau(plateau) <= masse_maxi_plateau and largeur[produit]+largeur_plateau(plateau) <= largeur_maxi_plateau :\n",
        "                    # oui : le produit est ajouté au plateau\n",
        "                    new_plateau = plateau + [produit]\n",
        "                    new_livraison = list(livraison)\n",
        "                else: #non : le produit est placé sur un nouveau plateau\n",
        "                    new_livraison = livraison + [plateau]\n",
        "                    new_plateau = [produit]\n",
        "                # appel récursif\n",
        "                commande_sans_le_produit = {cle:commande[cle]-1 if cle == produit else commande[cle] for cle in commande }\n",
        "                exploration = explore(commande_sans_le_produit, limit, new_livraison, new_plateau )\n",
        "                if flag:\n",
        "                    best = exploration\n",
        "                    longueur = len(best)\n",
        "                    flag = False\n",
        "                elif len(exploration)< longueur:\n",
        "                    best = exploration\n",
        "                    longueur = len(best)\n",
        "                if longueur < len(limit):\n",
        "                    limit = best\n",
        "        return best\n",
        "\n",
        "def optimise(commande, limit):\n",
        "    return explore(commande, limit)\n",
        "       \n"
      ],
      "execution_count": null,
      "outputs": []
    },
    {
      "cell_type": "code",
      "metadata": {
        "id": "Q1v3YfGun3pe"
      },
      "source": [
        "commande = {'A': 6, 'B': 1, 'C': 5, 'D': 4}\n",
        "glouton = traitement_commande(commande, 'DBCA')"
      ],
      "execution_count": null,
      "outputs": []
    },
    {
      "cell_type": "code",
      "metadata": {
        "id": "QZgwjGOPmnJP",
        "colab": {
          "base_uri": "https://localhost:8080/",
          "height": 119
        },
        "outputId": "5d0f2a98-5666-46b0-d44a-ee08b1fdf8e6"
      },
      "source": [
        "optimise(commande, glouton)"
      ],
      "execution_count": null,
      "outputs": [
        {
          "output_type": "execute_result",
          "data": {
            "text/plain": [
              "[['A', 'A', 'A', 'C'],\n",
              " ['A', 'A', 'A', 'C'],\n",
              " ['B', 'D'],\n",
              " ['C', 'D'],\n",
              " ['C', 'D'],\n",
              " ['C', 'D']]"
            ]
          },
          "metadata": {
            "tags": []
          },
          "execution_count": 13
        }
      ]
    },
    {
      "cell_type": "markdown",
      "metadata": {
        "id": "-QGG6Vt7oz42"
      },
      "source": [
        "Pour cette commande, le temps d'exécution passe de 69.5s à 47.5s environ, grâce à l'ajout de la limite (trouvée avec un algorithme glouton)."
      ]
    }
  ]
}